{
 "cells": [
  {
   "cell_type": "code",
   "execution_count": 1,
   "id": "361d6285-348c-4271-9599-28030b41e1a2",
   "metadata": {},
   "outputs": [
    {
     "name": "stdin",
     "output_type": "stream",
     "text": [
      "Enter Starting Unit of Measurement(inches,feet,yards): inches\n",
      "Enter Unit of Measurement to Convert to (inches,feet,yards): feet\n",
      "Enter Starting Measurment in Inches:  24\n",
      "Enter Starting Measurment in Feet:  3\n",
      "Enter Starting Measurment in Yards:  1\n"
     ]
    }
   ],
   "source": [
    "convert_from = input(\"Enter Starting Unit of Measurement(inches,feet,yards):\")\n",
    "\n",
    "convert_to = input(\"Enter Unit of Measurement to Convert to (inches,feet,yards):\")\n",
    "\n",
    "number_of_inches = input (\"Enter Starting Measurment in Inches: \")\n",
    "\n",
    "number_of_feet = input (\"Enter Starting Measurment in Feet: \")\n",
    "\n",
    "number_of_yards = input (\"Enter Starting Measurment in Yards: \")\n"
   ]
  },
  {
   "cell_type": "code",
   "execution_count": 14,
   "id": "db8dc8fc-686f-436e-a4ea-39c41d3a9fe1",
   "metadata": {},
   "outputs": [
    {
     "name": "stdin",
     "output_type": "stream",
     "text": [
      "Enter Starting Unit of Measurement(inches,feet,yards): feet\n",
      "Enter Unit of Measurement to Convert to (inches,feet,yards): yards\n",
      "Enter Starting Measurment in Feet:  5\n"
     ]
    },
    {
     "name": "stdout",
     "output_type": "stream",
     "text": [
      "Result: 5Feet =1.67Yards\n"
     ]
    }
   ],
   "source": [
    "convert_from = input(\"Enter Starting Unit of Measurement(inches,feet,yards):\")\n",
    "\n",
    "convert_to = input(\"Enter Unit of Measurement to Convert to (inches,feet,yards):\")\n",
    "\n",
    "if convert_from.lower() in [\"inches\",\"in\",\"inch\"]:\n",
    "    number_of_inches = int(input (\"Enter Starting Measurment in Inches: \"))\n",
    "\n",
    "    if convert_to.lower() in[\"feet\",\"foot\",\"ft\"]:\n",
    "        \n",
    "        print(\"Result: \" + str(number_of_inches) + \"inches =\" + str(round(number_of_inches / 12,2))  + \"Feet\")\n",
    "\n",
    "    elif convert_to.lower() in [\"yards\",\"yard\",\"yds\",\"yd\"]:\n",
    "          print(\"Result: \" + str(number_of_inches) + \"inches =\" + str(round(number_of_inches / 36,2))  + \"Yards\")\n",
    "\n",
    "    else: print(\"Please Enter either Inches, Feet, or Yards.\")\n",
    "\n",
    "elif convert_from.lower() in [\"feet\",\"foot\",\"ft\"]:\n",
    "    number_of_feet = int(input (\"Enter Starting Measurment in Feet: \"))\n",
    "\n",
    "    if convert_to.lower() in [\"inches\",\"in\",\"inch\"]:\n",
    "          print(\"Result: \" + str(number_of_feet) + \"Feet =\" + str(round(number_of_feet *12)) + \"Inches\")\n",
    "\n",
    "    elif convert_to.lower() in [\"yards\",\"yard\",\"yds\",\"yd\"]:\n",
    "        print(\"Result: \" + str(number_of_feet) + \"Feet =\" + str(round(number_of_feet /3,2)) + \"Yards\")\n",
    "        \n",
    "    else: \n",
    "        print(\"Please Enter either Inches, Feet, or Yards.\")\n",
    "\n",
    "\n",
    "elif convert_from.lower() in  [\"yards\",\"yard\",\"yds\",\"yd\"]:\n",
    "    number_of_yards = int(input (\"Enter Starting Measurment in Yards: \"))\n",
    "\n",
    "    if convert_to.lower() in [\"inches\",\"in\",\"inch\"]:\n",
    "          print(\"Result: \" + str(number_of_yards) + \"Yards =\" + str(round(number_of_yards * 3)) + \"Yards\")\n",
    "\n",
    "    elif convert_to.lower() in[\"feet\",\"foot\",\"ft\"]:\n",
    "          print(\"Result: \" + str(number_of_yards) + \"Yards =\" + str(round(number_of_yards * 3)) + \"Feet\")\n",
    "        \n",
    "\n",
    "    else: \n",
    "        print(\"Please Enter either Inches, Feet, or Yards.\")\n",
    "\n",
    "\n",
    "else : \n",
    "    print (\"Please Enter either Inches, Feet, or Yards.\")\n",
    "\n",
    "    \n",
    "        \n",
    "\n",
    "        \n"
   ]
  },
  {
   "cell_type": "markdown",
   "id": "66ceac38-82c6-4875-b028-63d0f9efde88",
   "metadata": {},
   "source": [
    "# Assistant\n",
    "The error occurs because you have an `elif` statement after an `else` statement, which is not allowed in Python syntax. The `else` statement should always be the last condition in an if-elif-else chain.\n",
    "\n",
    "Would you like me to provide the corrected code?"
   ]
  },
  {
   "cell_type": "code",
   "execution_count": null,
   "id": "0930dd10-ea23-4dda-bc8c-88a50c4a2865",
   "metadata": {},
   "outputs": [],
   "source": []
  },
  {
   "cell_type": "code",
   "execution_count": null,
   "id": "e0c60188-ee18-45f0-8077-158e1f09475c",
   "metadata": {},
   "outputs": [],
   "source": []
  },
  {
   "cell_type": "code",
   "execution_count": null,
   "id": "3e5aa70e-0875-4356-8a4a-110ae6dd02a2",
   "metadata": {},
   "outputs": [],
   "source": []
  },
  {
   "cell_type": "code",
   "execution_count": null,
   "id": "a3a588fd-0146-4276-b6e3-eb5f508e7804",
   "metadata": {},
   "outputs": [],
   "source": []
  },
  {
   "cell_type": "code",
   "execution_count": null,
   "id": "544f41a5-ba3c-4f5f-938c-02c699e423bc",
   "metadata": {},
   "outputs": [],
   "source": []
  },
  {
   "cell_type": "code",
   "execution_count": null,
   "id": "137503c4-8423-4814-a48a-199fb2d326e2",
   "metadata": {},
   "outputs": [],
   "source": []
  },
  {
   "cell_type": "code",
   "execution_count": null,
   "id": "1116b664-d0d3-44c9-83c1-d73486fe9078",
   "metadata": {},
   "outputs": [],
   "source": []
  },
  {
   "cell_type": "code",
   "execution_count": null,
   "id": "7314cdfb-4a38-4a2c-9c90-2296032742e4",
   "metadata": {},
   "outputs": [],
   "source": []
  },
  {
   "cell_type": "code",
   "execution_count": null,
   "id": "ed2304d4-13db-4218-bef3-79e1245c34e9",
   "metadata": {},
   "outputs": [],
   "source": []
  },
  {
   "cell_type": "code",
   "execution_count": null,
   "id": "be64553d-b245-4f08-923d-23ac25be72fb",
   "metadata": {},
   "outputs": [],
   "source": []
  },
  {
   "cell_type": "code",
   "execution_count": null,
   "id": "333d5adb-f62b-408f-906d-29ba778510a5",
   "metadata": {},
   "outputs": [],
   "source": []
  },
  {
   "cell_type": "code",
   "execution_count": null,
   "id": "70e82775-6796-4ea6-8ab7-65cd0c300d37",
   "metadata": {},
   "outputs": [],
   "source": []
  },
  {
   "cell_type": "code",
   "execution_count": null,
   "id": "c89a42d4-6c4a-444d-b8d7-f60797500169",
   "metadata": {},
   "outputs": [],
   "source": []
  },
  {
   "cell_type": "code",
   "execution_count": null,
   "id": "da04be3c-13b9-473a-9ca9-14360f92eb48",
   "metadata": {},
   "outputs": [],
   "source": []
  },
  {
   "cell_type": "code",
   "execution_count": null,
   "id": "97cffd5c-abc1-4644-bf11-5ef5829a415a",
   "metadata": {},
   "outputs": [],
   "source": []
  }
 ],
 "metadata": {
  "kernelspec": {
   "display_name": "Python [conda env:base] *",
   "language": "python",
   "name": "conda-base-py"
  },
  "language_info": {
   "codemirror_mode": {
    "name": "ipython",
    "version": 3
   },
   "file_extension": ".py",
   "mimetype": "text/x-python",
   "name": "python",
   "nbconvert_exporter": "python",
   "pygments_lexer": "ipython3",
   "version": "3.13.5"
  }
 },
 "nbformat": 4,
 "nbformat_minor": 5
}
